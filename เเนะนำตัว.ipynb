{
 "cells": [
  {
   "cell_type": "markdown",
   "id": "91636c37-cf47-4207-a09e-f76567238482",
   "metadata": {
    "scrolled": true
   },
   "source": [
    "<div align=\"center\">\n",
    "<h1><span style=\"color:Blue\">Introduce Myself</h1>\n",
    "</div>"
   ]
  },
  {
   "cell_type": "markdown",
   "id": "00a76dc1-edd2-4f0b-9f41-62a6a916abb2",
   "metadata": {},
   "source": [
    "# <span style=\"color:orange\">66051033 \n"
   ]
  },
  {
   "cell_type": "markdown",
   "id": "e0c286c6-cfb0-414b-863c-34024a611c22",
   "metadata": {},
   "source": [
    "<div style=\"text-align: center;\">\n",
    "  <img src=\"https://raw.githubusercontent.com/4xis7/4xis7.github.io/main/index/picture/IMG_5820.jpg\" width=\"120\"  >\n",
    "</div>"
   ]
  },
  {
   "cell_type": "markdown",
   "id": "39bd5d97-5a3a-450e-97a0-7997abc9ed06",
   "metadata": {},
   "source": [
    "### <span style=\"color:green\">My nickname is M</span>"
   ]
  },
  {
   "cell_type": "markdown",
   "id": "1cb92ae4-cbbd-447e-b8c1-314530af92d0",
   "metadata": {},
   "source": [
    "### <span style=\"color:red\">My name is Vitchayut Pookamung ."
   ]
  },
  {
   "cell_type": "markdown",
   "id": "4740702e-03d2-40cc-be5b-9171e9dce205",
   "metadata": {},
   "source": [
    "<style>\n",
    "  .ประวัติส่วนตัว {\n",
    "    font-family: 'Tahoma', sans-serif;\n",
    "    width: fit-content;\n",
    "    padding: 20px;\n",
    "    background-color: green; /* สีพื้นรอบนอก */\n",
    "    border-radius: 15px;\n",
    "    box-shadow: 0 4px 8px rgba(0,0,0,0.1);\n",
    "  }\n",
    "\n",
    "  table {\n",
    "    border-collapse: collapse;\n",
    "    width: 100%;\n",
    "  }\n",
    "\n",
    "  td {\n",
    "    padding: 10px 15px;\n",
    "  }\n",
    "\n",
    "  .label {\n",
    "    background-color: #3f51b5; /* พื้นหลังหัวตาราง */\n",
    "    color: blue;               /* ตัวอักษรสีขาว */\n",
    "    font-weight: bold;\n",
    "    width: 150px;\n",
    "  }\n",
    "\n",
    "  .data {\n",
    "    background-color: #e8eaf6; /* สีพื้นข้อมูล */\n",
    "    color: #333;\n",
    "  }\n",
    "</style>\n",
    "\n",
    "<div class=\"ประวัติส่วนตัว\">\n",
    "  <table>\n",
    "    <tr>\n",
    "      <td class=\"label\">ชื่อเต็ม</td>\n",
    "      <td class=\"data\">วิชยุตม์ ภูขมัง (Vitchayut Pookamung)</td>\n",
    "    </tr>\n",
    "    <tr>\n",
    "      <td class=\"label\">การศึกษา</td>\n",
    "      <td class=\"data\">คณะวิทยาศาสตร</td>\n",
    "    </tr>\n",
    "    <tr>\n",
    "      <td class=\"label\">ทักษะ</td>\n",
    "      <td class=\"data\">Arduino, UX/UI Design</td>\n",
    "    </tr>\n",
    "    <tr>\n",
    "      <td class=\"label\">งานอดิเรก</td>\n",
    "      <td class=\"data\">วาดภาพ, ฟังเพลง</td>\n",
    "    </tr>\n",
    "    <tr>\n",
    "      <td class=\"label\">ช่องทางติดต่อ</td>\n",
    "      <td class=\"data\">\n",
    "        Email: 66051033@email.com<br>\n",
    "      </td>\n",
    "    </tr>\n",
    "  </table>\n",
    "</div>\n"
   ]
  },
  {
   "cell_type": "markdown",
   "id": "108804ca-5760-4f99-bb8e-8348ecffbcc6",
   "metadata": {},
   "source": [
    "| หัวข้อ        | รายการที่ชอบ                            |\n",
    "|:--------------|:-----------------------------------------|\n",
    "| 🍛 อาหารที่ชอบ | ข้าวผัด, ชาบู, ปูไข่ดอง                   |\n",
    "| 📚 วิชาที่ชอบ  | ฟิสิกส์, คณิตศาสตร์, เขียนโปรแกรม        |\n"
   ]
  }
 ],
 "metadata": {
  "kernelspec": {
   "display_name": "Python [conda env:base] *",
   "language": "python",
   "name": "conda-base-py"
  },
  "language_info": {
   "codemirror_mode": {
    "name": "ipython",
    "version": 3
   },
   "file_extension": ".py",
   "mimetype": "text/x-python",
   "name": "python",
   "nbconvert_exporter": "python",
   "pygments_lexer": "ipython3",
   "version": "3.13.5"
  }
 },
 "nbformat": 4,
 "nbformat_minor": 5
}
